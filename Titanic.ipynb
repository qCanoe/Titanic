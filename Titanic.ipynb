{
 "cells": [
  {
   "cell_type": "code",
   "execution_count": 1,
   "id": "f871e91b",
   "metadata": {},
   "outputs": [],
   "source": [
    "# 导入所需库\n",
    "import pandas as pd\n",
    "from sklearn.model_selection import train_test_split\n",
    "from sklearn.preprocessing import LabelEncoder\n",
    "from sklearn.ensemble import RandomForestClassifier\n",
    "from sklearn.metrics import accuracy_score"
   ]
  },
  {
   "cell_type": "markdown",
   "id": "d0527be2",
   "metadata": {},
   "source": [
    "### 简易的随机森林分类算法\n",
    "\n",
    "初版中没有对特征有过多的处理和分析，也没有使用一些trick，显得比较简单直接，非常容易理解\n",
    "\n"
   ]
  },
  {
   "cell_type": "code",
   "execution_count": 2,
   "id": "2d86c096",
   "metadata": {},
   "outputs": [],
   "source": [
    "# 读取数据集\n",
    "data = pd.read_csv('C:/Users/canoe/Files/Kaggle/dataset/titanic/train.csv')\n",
    "\n",
    "\n",
    "# 数据清洗和处理\n",
    "data = data.drop(['PassengerId', 'Name', 'Ticket', 'Cabin'], axis=1)  # 删除无关特征列\n",
    "data['Age'].fillna(data['Age'].median(), inplace=True)  # 填充年龄的缺失值"
   ]
  },
  {
   "cell_type": "code",
   "execution_count": 3,
   "id": "96cc3c8b",
   "metadata": {},
   "outputs": [],
   "source": [
    "# 特征编码\n",
    "label_encoder = LabelEncoder()\n",
    "data['Sex'] = label_encoder.fit_transform(data['Sex'])\n",
    "\n",
    "# 使用独热编码对'Embarked'特征进行编码\n",
    "data = pd.get_dummies(data, columns=['Embarked'])\n",
    "\n",
    "# 划分特征和标签\n",
    "X = data.drop('Survived', axis=1)\n",
    "y = data['Survived']"
   ]
  },
  {
   "cell_type": "code",
   "execution_count": 4,
   "id": "10874e8d",
   "metadata": {},
   "outputs": [],
   "source": [
    "# 划分训练集和测试集\n",
    "X_train, X_test, y_train, y_test = train_test_split(X, y, test_size=0.b2, random_state=42)"
   ]
  },
  {
   "cell_type": "code",
   "execution_count": 5,
   "id": "b275d46f",
   "metadata": {},
   "outputs": [],
   "source": [
    "# 模型训练和预测\n",
    "model = RandomForestClassifier()\n",
    "model.fit(X_train, y_train)\n",
    "predictions = model.predict(X_test)"
   ]
  },
  {
   "cell_type": "code",
   "execution_count": 6,
   "id": "a8faa1cc",
   "metadata": {},
   "outputs": [
    {
     "name": "stdout",
     "output_type": "stream",
     "text": [
      "Accuracy: 0.8156424581005587\n"
     ]
    }
   ],
   "source": [
    "# 模型评估\n",
    "accuracy = accuracy_score(y_test, predictions)\n",
    "print(\"Accuracy:\", accuracy)"
   ]
  },
  {
   "cell_type": "code",
   "execution_count": 12,
   "id": "23f95fb0",
   "metadata": {},
   "outputs": [],
   "source": [
    "# 读取测试数据集\n",
    "test_data = pd.read_csv(r'C:\\Users\\canoe\\Files\\Kaggle\\dataset\\titanic\\test.csv')\n",
    "\n",
    "# 创建测试数据集副本\n",
    "test_data_copy = test_data.copy()\n",
    "\n",
    "# 数据清洗和处理\n",
    "test_data_copy = test_data_copy.drop(['Name', 'Ticket', 'Cabin', 'PassengerId'], axis=1)  # 删除无关特征列\n",
    "test_data_copy['Age'].fillna(test_data_copy['Age'].median(), inplace=True)  # 填充年龄的缺失值\n",
    "test_data_copy['Fare'].fillna(test_data_copy['Fare'].median(), inplace=True)  # 填充票价的缺失值\n",
    "\n",
    "# 特征编码\n",
    "test_data_copy['Sex'] = label_encoder.transform(test_data_copy['Sex'])\n",
    "\n",
    "# 使用独热编码对'Embarked'特征进行编码\n",
    "test_data_copy = pd.get_dummies(test_data_copy, columns=['Embarked'])\n",
    "\n",
    "# 进行预测\n",
    "test_predictions = model.predict(test_data_copy)\n",
    "\n",
    "# 创建包含 PassengerId 和 Survived 的 DataFrame\n",
    "results = pd.DataFrame({'PassengerId': test_data['PassengerId'], 'Survived': test_predictions})\n",
    "\n",
    "# 将结果保存为 CSV 文件\n",
    "results.to_csv('predictions.csv', index=False)\n",
    "\n",
    "\n"
   ]
  }
 ],
 "metadata": {
  "kernelspec": {
   "display_name": "Python 3 (ipykernel)",
   "language": "python",
   "name": "python3"
  },
  "language_info": {
   "codemirror_mode": {
    "name": "ipython",
    "version": 3
   },
   "file_extension": ".py",
   "mimetype": "text/x-python",
   "name": "python",
   "nbconvert_exporter": "python",
   "pygments_lexer": "ipython3",
   "version": "3.10.9"
  }
 },
 "nbformat": 4,
 "nbformat_minor": 5
}
